{
 "cells": [
  {
   "cell_type": "markdown",
   "metadata": {},
   "source": [
    "Exploratory Data Analysis (EDA) of global data-related roles and salaries using Python."
   ]
  },
  {
   "cell_type": "code",
   "execution_count": null,
   "metadata": {},
   "outputs": [],
   "source": [
    "# Import libraries\n",
    "import pandas as pd\n",
    "import matplotlib.pyplot as plt\n",
    "import seaborn as sns\n",
    "sns.set_palette('viridis')"
   ]
  },
  {
   "cell_type": "code",
   "execution_count": null,
   "metadata": {},
   "outputs": [],
   "source": [
    "# Load dataset\n",
    "df = pd.read_csv('data_jobs.csv')\n",
    "print('Shape:', df.shape)\n",
    "df.head()"
   ]
  },
  {
   "cell_type": "code",
   "execution_count": null,
   "metadata": {},
   "outputs": [],
   "source": [
    "# Inspect data\n",
    "df.info()\n",
    "df.describe()\n",
    "df.isnull().sum()"
   ]
  },
  {
   "cell_type": "code",
   "execution_count": null,
   "metadata": {},
   "outputs": [],
   "source": [
    "# Basic cleaning\n",
    "df.columns = [col.replace(' ', '_').lower() for col in df.columns]\n",
    "print(df['company_location'].unique()[:10])"
   ]
  },
  {
   "cell_type": "code",
   "execution_count": null,
   "metadata": {},
   "outputs": [],
   "source": [
    "# EDA\n",
    "plt.figure(figsize=(10,5))\n",
    "df['job_title'].value_counts().head(10).plot(kind='barh')\n",
    "plt.title('Top 10 job titles in data roles')\n",
    "plt.xlabel('Number of roles')\n",
    "plt.show()"
   ]
  },
  {
   "cell_type": "code",
   "execution_count": null,
   "metadata": {},
   "outputs": [],
   "source": [
    "# Salary analysis\n",
    "plt.figure(figsize=(10,5))\n",
    "df.groupby('job_title')['salary_in_usd'].mean().sort_values(ascending=False).head(10).plot(kind='barh')\n",
    "plt.title('Average salary (USD) by role')\n",
    "plt.xlabel('USD')\n",
    "plt.show()"
   ]
  },
  {
   "cell_type": "code",
   "execution_count": null,
   "metadata": {},
   "outputs": [],
   "source": [
    "# Remote work distribution\n",
    "plt.figure(figsize=(6,4))\n",
    "df['remote_ratio'].replace({0:'On-site',50:'Hybrid',100:'Remote'}).value_counts().plot(kind='bar')\n",
    "plt.title('Work mode distribution')\n",
    "plt.ylabel('Count')\n",
    "plt.show()"
   ]
  },
  {
   "cell_type": "code",
   "execution_count": null,
   "metadata": {},
   "outputs": [],
   "source": [
    "# Salary vs experience level\n",
    "plt.figure(figsize=(8,5))\n",
    "sns.boxplot(data=df, x='experience_level', y='salary_in_usd', order=['EN','MI','SE','EX'])\n",
    "plt.title('Salary distribution by experience level')\n",
    "plt.show()"
   ]
  },
  {
   "cell_type": "code",
   "execution_count": null,
   "metadata": {},
   "outputs": [],
   "source": [
    "# Country salary comparison\n",
    "plt.figure(figsize=(10,6))\n",
    "top_countries = df['company_location'].value_counts().head(10).index\n",
    "sns.barplot(data=df[df['company_location'].isin(top_countries)], x='company_location', y='salary_in_usd')\n",
    "plt.title('Average salary by top company locations')\n",
    "plt.xticks(rotation=45)\n",
    "plt.show()"
   ]
  },
  {
   "cell_type": "code",
   "execution_count": null,
   "metadata": {},
   "outputs": [],
   "source": [
    "# Conclusion\n",
    "print('''\n",
    "📈 Conclusión:\n",
    "Este análisis exploratorio de datos resalta las tendencias globales en los roles relacionados con datos, mostrando una correlación entre la experiencia, la modalidad de trabajo y los salarios.\n",
    "Los resultados evidencian la relevancia de las habilidades técnicas y analíticas en un mercado impulsado por los datos.\n",
    "Es vital resaltar que el trabajo remoto predomina en las ofertas y que los trabajos relacionado a Data Engineer y Data Scientist son los que presentan mejores ingresos.''')\n"
   ]
  }
 ],
 "metadata": {
  "kernelspec": {
   "display_name": "Python 3",
   "language": "python",
   "name": "python3"
  },
  "language_info": {
   "name": "python",
   "version": "3.10"
  }
 },
 "nbformat": 4,
 "nbformat_minor": 5
}
